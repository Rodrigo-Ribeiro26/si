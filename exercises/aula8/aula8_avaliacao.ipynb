{
 "cells": [
  {
   "attachments": {},
   "cell_type": "markdown",
   "metadata": {},
   "source": [
    "# Exercício 9: Adapta o KMer para calcular a composição peptídica\n",
    "#### • 9.1) O KMer deve ser capaz de calcular a composição nucleotídica e peptídica. Podes adicionar um novo parâmetro chamado alphabet onde o utilizador fornece o alfabeto da sequência biológica.\n",
    "##### Check kmer.py\n",
    "\n",
    "#### • 9.2) Testa o novo KMer para sequências de aminoácidos:\n",
    "##### 1. Usa o dataset transporters.csv. Inspeciona o conteúdo do dataset.\n"
   ]
  },
  {
   "cell_type": "code",
   "execution_count": 1,
   "metadata": {},
   "outputs": [
    {
     "name": "stdout",
     "output_type": "stream",
     "text": [
      "c:\\Users\\rodri\\Desktop\\Mestrado\\SIB\\si\\src\n"
     ]
    }
   ],
   "source": [
    "cd src"
   ]
  },
  {
   "cell_type": "code",
   "execution_count": 2,
   "metadata": {},
   "outputs": [],
   "source": [
    "import numpy as np\n",
    "from si.io.CSV import read_csv\n",
    "from sklearn.preprocessing import StandardScaler\n",
    "from si.model_selection.split import train_test_split\n",
    "from si.linear_model.logistic_regression import LogisticRegression\n",
    "from si.feature_extraction.k_mer import KMer"
   ]
  },
  {
   "cell_type": "code",
   "execution_count": 3,
   "metadata": {},
   "outputs": [
    {
     "data": {
      "text/html": [
       "<div>\n",
       "<style scoped>\n",
       "    .dataframe tbody tr th:only-of-type {\n",
       "        vertical-align: middle;\n",
       "    }\n",
       "\n",
       "    .dataframe tbody tr th {\n",
       "        vertical-align: top;\n",
       "    }\n",
       "\n",
       "    .dataframe thead th {\n",
       "        text-align: right;\n",
       "    }\n",
       "</style>\n",
       "<table border=\"1\" class=\"dataframe\">\n",
       "  <thead>\n",
       "    <tr style=\"text-align: right;\">\n",
       "      <th></th>\n",
       "      <th>Sequence</th>\n",
       "    </tr>\n",
       "  </thead>\n",
       "  <tbody>\n",
       "    <tr>\n",
       "      <th>1</th>\n",
       "      <td>MKKTLIALSVSAAAMATGVNAAELYNQDGTSLEMGGRAEARLSMKD...</td>\n",
       "    </tr>\n",
       "    <tr>\n",
       "      <th>0</th>\n",
       "      <td>MRIGVYVCHCGLNIAGVIDVSALEEMAGELEDVVLAREVQFLCSDS...</td>\n",
       "    </tr>\n",
       "    <tr>\n",
       "      <th>1</th>\n",
       "      <td>MELKNKKLSLWEAVSMAVGVMIGASIFSIFGVGAKIAGRNLPETFI...</td>\n",
       "    </tr>\n",
       "    <tr>\n",
       "      <th>0</th>\n",
       "      <td>MHLPSLSVALALVSSSLALPQAVLPENDVSSRAAAVKEAFSHAWDG...</td>\n",
       "    </tr>\n",
       "    <tr>\n",
       "      <th>0</th>\n",
       "      <td>MEELVGLREGFSGDPVTLQELWGPCPHIRRAIQGGLEWLKQKVFRL...</td>\n",
       "    </tr>\n",
       "    <tr>\n",
       "      <th>...</th>\n",
       "      <td>...</td>\n",
       "    </tr>\n",
       "    <tr>\n",
       "      <th>0</th>\n",
       "      <td>MKIKDALIKAYSVLKETNDEFYMEDSQILLSYVLKKDRIFLITNRE...</td>\n",
       "    </tr>\n",
       "    <tr>\n",
       "      <th>1</th>\n",
       "      <td>MSIATIVPENAVIGQAVNIRSMETDIVSLDDRLLQAFSGSAIATAV...</td>\n",
       "    </tr>\n",
       "    <tr>\n",
       "      <th>1</th>\n",
       "      <td>MTAYIQRSQCISTSLLVVLTTLVSCQIPRDRLSNIGVIVDEGKSLK...</td>\n",
       "    </tr>\n",
       "    <tr>\n",
       "      <th>1</th>\n",
       "      <td>MTEASEINLSDIKGPIDVNTPITNHRTALIQNYSTKPKLTYQTVFG...</td>\n",
       "    </tr>\n",
       "    <tr>\n",
       "      <th>0</th>\n",
       "      <td>MIKVRFAPSPTGYIHIGNIRIALFNWLYAQAHNGTFILRYDNTDVE...</td>\n",
       "    </tr>\n",
       "  </tbody>\n",
       "</table>\n",
       "<p>2011 rows × 1 columns</p>\n",
       "</div>"
      ],
      "text/plain": [
       "                                             Sequence\n",
       "1   MKKTLIALSVSAAAMATGVNAAELYNQDGTSLEMGGRAEARLSMKD...\n",
       "0   MRIGVYVCHCGLNIAGVIDVSALEEMAGELEDVVLAREVQFLCSDS...\n",
       "1   MELKNKKLSLWEAVSMAVGVMIGASIFSIFGVGAKIAGRNLPETFI...\n",
       "0   MHLPSLSVALALVSSSLALPQAVLPENDVSSRAAAVKEAFSHAWDG...\n",
       "0   MEELVGLREGFSGDPVTLQELWGPCPHIRRAIQGGLEWLKQKVFRL...\n",
       "..                                                ...\n",
       "0   MKIKDALIKAYSVLKETNDEFYMEDSQILLSYVLKKDRIFLITNRE...\n",
       "1   MSIATIVPENAVIGQAVNIRSMETDIVSLDDRLLQAFSGSAIATAV...\n",
       "1   MTAYIQRSQCISTSLLVVLTTLVSCQIPRDRLSNIGVIVDEGKSLK...\n",
       "1   MTEASEINLSDIKGPIDVNTPITNHRTALIQNYSTKPKLTYQTVFG...\n",
       "0   MIKVRFAPSPTGYIHIGNIRIALFNWLYAQAHNGTFILRYDNTDVE...\n",
       "\n",
       "[2011 rows x 1 columns]"
      ]
     },
     "execution_count": 3,
     "metadata": {},
     "output_type": "execute_result"
    }
   ],
   "source": [
    "data_trans = read_csv(\"C:/Users/rodri/Desktop/Mestrado/SIB/si/datasets/transporters.csv\", features=True, label=True)\n",
    "data_trans.print_dataframe()"
   ]
  },
  {
   "attachments": {},
   "cell_type": "markdown",
   "metadata": {},
   "source": [
    "##### 2. Usa o KMer para obter a frequência de cada substring em cada sequência do dataset. Tamanho da substring (k): 2\n"
   ]
  },
  {
   "cell_type": "code",
   "execution_count": 4,
   "metadata": {},
   "outputs": [
    {
     "ename": "KeyError",
     "evalue": "'MKK'",
     "output_type": "error",
     "traceback": [
      "\u001b[1;31m---------------------------------------------------------------------------\u001b[0m",
      "\u001b[1;31mKeyError\u001b[0m                                  Traceback (most recent call last)",
      "Cell \u001b[1;32mIn[4], line 2\u001b[0m\n\u001b[0;32m      1\u001b[0m k_mer \u001b[39m=\u001b[39m KMer(k\u001b[39m=\u001b[39m\u001b[39m3\u001b[39m, alphabet\u001b[39m=\u001b[39m\u001b[39m\"\u001b[39m\u001b[39mDNA\u001b[39m\u001b[39m\"\u001b[39m)\n\u001b[1;32m----> 2\u001b[0m kmer_dataset \u001b[39m=\u001b[39m k_mer\u001b[39m.\u001b[39;49mfit_transform(data_trans)\n\u001b[0;32m      3\u001b[0m kmer_dataset\u001b[39m.\u001b[39mprint_dataframe()\n",
      "File \u001b[1;32mc:\\Users\\rodri\\Desktop\\Mestrado\\SIB\\si\\src\\si\\feature_extraction\\k_mer.py:49\u001b[0m, in \u001b[0;36mKMer.fit_transform\u001b[1;34m(self, dataset)\u001b[0m\n\u001b[0;32m     47\u001b[0m \u001b[39mdef\u001b[39;00m \u001b[39mfit_transform\u001b[39m(\u001b[39mself\u001b[39m, dataset: Dataset):\n\u001b[0;32m     48\u001b[0m     \u001b[39mself\u001b[39m\u001b[39m.\u001b[39mfit(dataset)\n\u001b[1;32m---> 49\u001b[0m     \u001b[39mreturn\u001b[39;00m \u001b[39mself\u001b[39;49m\u001b[39m.\u001b[39;49mtransform(dataset)\n",
      "File \u001b[1;32mc:\\Users\\rodri\\Desktop\\Mestrado\\SIB\\si\\src\\si\\feature_extraction\\k_mer.py:41\u001b[0m, in \u001b[0;36mKMer.transform\u001b[1;34m(self, dataset)\u001b[0m\n\u001b[0;32m     40\u001b[0m \u001b[39mdef\u001b[39;00m \u001b[39mtransform\u001b[39m(\u001b[39mself\u001b[39m, dataset: Dataset):\n\u001b[1;32m---> 41\u001b[0m     sequences_kmer \u001b[39m=\u001b[39m [\u001b[39mself\u001b[39m\u001b[39m.\u001b[39m_get_kmer(seq) \u001b[39mfor\u001b[39;00m seq \u001b[39min\u001b[39;00m dataset\u001b[39m.\u001b[39mX[:, \u001b[39m0\u001b[39m]]\n\u001b[0;32m     42\u001b[0m     sequences_kmer \u001b[39m=\u001b[39m np\u001b[39m.\u001b[39marray(sequences_kmer)\n\u001b[0;32m     44\u001b[0m     \u001b[39mreturn\u001b[39;00m Dataset(X\u001b[39m=\u001b[39msequences_kmer, y\u001b[39m=\u001b[39mdataset\u001b[39m.\u001b[39my, features\u001b[39m=\u001b[39m\u001b[39mself\u001b[39m\u001b[39m.\u001b[39mk_mers, label\u001b[39m=\u001b[39mdataset\u001b[39m.\u001b[39mlabel)\n",
      "File \u001b[1;32mc:\\Users\\rodri\\Desktop\\Mestrado\\SIB\\si\\src\\si\\feature_extraction\\k_mer.py:41\u001b[0m, in \u001b[0;36m<listcomp>\u001b[1;34m(.0)\u001b[0m\n\u001b[0;32m     40\u001b[0m \u001b[39mdef\u001b[39;00m \u001b[39mtransform\u001b[39m(\u001b[39mself\u001b[39m, dataset: Dataset):\n\u001b[1;32m---> 41\u001b[0m     sequences_kmer \u001b[39m=\u001b[39m [\u001b[39mself\u001b[39;49m\u001b[39m.\u001b[39;49m_get_kmer(seq) \u001b[39mfor\u001b[39;00m seq \u001b[39min\u001b[39;00m dataset\u001b[39m.\u001b[39mX[:, \u001b[39m0\u001b[39m]]\n\u001b[0;32m     42\u001b[0m     sequences_kmer \u001b[39m=\u001b[39m np\u001b[39m.\u001b[39marray(sequences_kmer)\n\u001b[0;32m     44\u001b[0m     \u001b[39mreturn\u001b[39;00m Dataset(X\u001b[39m=\u001b[39msequences_kmer, y\u001b[39m=\u001b[39mdataset\u001b[39m.\u001b[39my, features\u001b[39m=\u001b[39m\u001b[39mself\u001b[39m\u001b[39m.\u001b[39mk_mers, label\u001b[39m=\u001b[39mdataset\u001b[39m.\u001b[39mlabel)\n",
      "File \u001b[1;32mc:\\Users\\rodri\\Desktop\\Mestrado\\SIB\\si\\src\\si\\feature_extraction\\k_mer.py:35\u001b[0m, in \u001b[0;36mKMer._get_kmer\u001b[1;34m(self, sequence)\u001b[0m\n\u001b[0;32m     33\u001b[0m \u001b[39mfor\u001b[39;00m i \u001b[39min\u001b[39;00m \u001b[39mrange\u001b[39m(\u001b[39mlen\u001b[39m(sequence)\u001b[39m-\u001b[39m\u001b[39mself\u001b[39m\u001b[39m.\u001b[39mk \u001b[39m+\u001b[39m\u001b[39m1\u001b[39m):\n\u001b[0;32m     34\u001b[0m     k_mer \u001b[39m=\u001b[39m sequence[i:i \u001b[39m+\u001b[39m \u001b[39mself\u001b[39m\u001b[39m.\u001b[39mk]\n\u001b[1;32m---> 35\u001b[0m     kmer_count[k_mer] \u001b[39m+\u001b[39m\u001b[39m=\u001b[39m \u001b[39m1\u001b[39m\n\u001b[0;32m     37\u001b[0m \u001b[39mreturn\u001b[39;00m np\u001b[39m.\u001b[39marray([kmer_count[k_mer]\u001b[39m/\u001b[39m\u001b[39mlen\u001b[39m(sequence) \u001b[39mfor\u001b[39;00m k_mer \u001b[39min\u001b[39;00m \u001b[39mself\u001b[39m\u001b[39m.\u001b[39mk_mers])\n",
      "\u001b[1;31mKeyError\u001b[0m: 'MKK'"
     ]
    }
   ],
   "source": [
    "k_mer = KMer(k=3, alphabet=\"DNA\")\n",
    "kmer_dataset = k_mer.fit_transform(data_trans)\n",
    "kmer_dataset.print_dataframe()"
   ]
  },
  {
   "attachments": {},
   "cell_type": "markdown",
   "metadata": {},
   "source": [
    "##### 3. Usa o sklearn.preprocessing.StandardScaler para standardizar o dataset da composição pepetídica. dataset.X = StandardScaler().fit_transform(dataset.X)\n"
   ]
  },
  {
   "attachments": {},
   "cell_type": "markdown",
   "metadata": {},
   "source": [
    "##### 4. Divide o dataset em treino e teste.\n"
   ]
  },
  {
   "attachments": {},
   "cell_type": "markdown",
   "metadata": {},
   "source": [
    "##### 5. Treina o modelo LogisticRegression no dataset de composição pepetídica.\n"
   ]
  },
  {
   "attachments": {},
   "cell_type": "markdown",
   "metadata": {},
   "source": [
    "##### 6. Qual o score obtido?"
   ]
  }
 ],
 "metadata": {
  "kernelspec": {
   "display_name": "Python 3",
   "language": "python",
   "name": "python3"
  },
  "language_info": {
   "codemirror_mode": {
    "name": "ipython",
    "version": 3
   },
   "file_extension": ".py",
   "mimetype": "text/x-python",
   "name": "python",
   "nbconvert_exporter": "python",
   "pygments_lexer": "ipython3",
   "version": "3.10.9"
  },
  "orig_nbformat": 4,
  "vscode": {
   "interpreter": {
    "hash": "0e5b5b920195072d4a4eec1d5ff9e5f87252d2725e2a57da6939cd4fcd91d4cd"
   }
  }
 },
 "nbformat": 4,
 "nbformat_minor": 2
}
