{
 "cells": [
  {
   "attachments": {},
   "cell_type": "markdown",
   "metadata": {},
   "source": [
    "# Exercício 3: Implementar o SelectPercentile\n",
    "#### 3.1) Adiciona o objeto SelectPercentile ao sub-package feature_selection. Deves criar um módulo chamado select_percentile.py para implementar este objeto\n",
    "\n",
    "##### Check select_percentile.py\n",
    "\n",
    "#### 3.2) A class SelectPercentile tem uma arquitetura semelhante à classe SelectKBest. Considera a estrutura apresentada no diapositivo seguinte.\n",
    "\n",
    "#### 3.3) Podes testar a class SelectPercentile num jupyter notebook usando o dataset iris.csv (classificação)"
   ]
  },
  {
   "cell_type": "code",
   "execution_count": 3,
   "metadata": {},
   "outputs": [
    {
     "ename": "ModuleNotFoundError",
     "evalue": "No module named 'si.io'",
     "output_type": "error",
     "traceback": [
      "\u001b[1;31m---------------------------------------------------------------------------\u001b[0m",
      "\u001b[1;31mModuleNotFoundError\u001b[0m                       Traceback (most recent call last)",
      "Cell \u001b[1;32mIn[3], line 1\u001b[0m\n\u001b[1;32m----> 1\u001b[0m \u001b[39mfrom\u001b[39;00m \u001b[39msi\u001b[39;00m\u001b[39m.\u001b[39;00m\u001b[39mio\u001b[39;00m\u001b[39m.\u001b[39;00m\u001b[39mCSV\u001b[39;00m \u001b[39mimport\u001b[39;00m read_csv\n\u001b[0;32m      2\u001b[0m \u001b[39mfrom\u001b[39;00m \u001b[39msi\u001b[39;00m\u001b[39m.\u001b[39;00m\u001b[39mstatistics\u001b[39;00m\u001b[39m.\u001b[39;00m\u001b[39mf_classification\u001b[39;00m \u001b[39mimport\u001b[39;00m f_classification\n\u001b[0;32m      3\u001b[0m \u001b[39mfrom\u001b[39;00m \u001b[39msi\u001b[39;00m\u001b[39m.\u001b[39;00m\u001b[39mfeature_selection\u001b[39;00m\u001b[39m.\u001b[39;00m\u001b[39mselect_percentile\u001b[39;00m \u001b[39mimport\u001b[39;00m SelectPercentile\n",
      "\u001b[1;31mModuleNotFoundError\u001b[0m: No module named 'si.io'"
     ]
    }
   ],
   "source": [
    "from si.io.CSV import read_csv\n",
    "from si.statistics.f_classification import f_classification\n",
    "from si.feature_selection.select_percentile import SelectPercentile\n"
   ]
  },
  {
   "cell_type": "code",
   "execution_count": null,
   "metadata": {},
   "outputs": [],
   "source": []
  }
 ],
 "metadata": {
  "kernelspec": {
   "display_name": "Python 3",
   "language": "python",
   "name": "python3"
  },
  "language_info": {
   "codemirror_mode": {
    "name": "ipython",
    "version": 3
   },
   "file_extension": ".py",
   "mimetype": "text/x-python",
   "name": "python",
   "nbconvert_exporter": "python",
   "pygments_lexer": "ipython3",
   "version": "3.10.9"
  },
  "orig_nbformat": 4,
  "vscode": {
   "interpreter": {
    "hash": "0e5b5b920195072d4a4eec1d5ff9e5f87252d2725e2a57da6939cd4fcd91d4cd"
   }
  }
 },
 "nbformat": 4,
 "nbformat_minor": 2
}
