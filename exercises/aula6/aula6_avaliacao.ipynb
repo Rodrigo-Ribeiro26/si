{
 "cells": [
  {
   "attachments": {},
   "cell_type": "markdown",
   "metadata": {},
   "source": [
    "# Exercício 6: Adiciona o modelo ensemble StackingClassifier\n",
    "#### O modelo StackingClassifier usa um conjunto de modelos para gerar previsões. Estas previsões são depois usadas para treinar outro modelo, o modelo final. O modelo final pode depois ser usado para prever a variável de saída (Y).\n",
    "#### 6.1) Considera a estrutura do StackingClassifier apresentada nos slides seguintes.\n",
    "##### check StackingClassifier.py\n",
    "\n",
    "#### 6.2) Valida a tua implementação seguindo o protocolo:\n",
    "##### 1. Usa o dataset breast-bin.csv\n"
   ]
  },
  {
   "cell_type": "code",
   "execution_count": 1,
   "metadata": {},
   "outputs": [
    {
     "name": "stdout",
     "output_type": "stream",
     "text": [
      "c:\\Users\\rodri\\Desktop\\Mestrado\\SIB\\si\\src\n"
     ]
    }
   ],
   "source": [
    "cd src"
   ]
  },
  {
   "cell_type": "code",
   "execution_count": 3,
   "metadata": {},
   "outputs": [],
   "source": [
    "from si.ensemble.voting_classifier import VotingClassifier\n",
    "from si.ensemble.stacking_classifier import StackingClassifier\n",
    "from si.io.CSV import read_csv\n",
    "from sklearn.preprocessing import StandardScaler\n",
    "from si.model_selection.split import train_test_split\n",
    "from si.linear_model.logistic_regression import LogisticRegression\n",
    "from si.neighbors.knn_classifier import KNNClassifier\n",
    "from si.statistics_.euclidean_distance import euclidean_distance"
   ]
  },
  {
   "cell_type": "code",
   "execution_count": 4,
   "metadata": {},
   "outputs": [],
   "source": [
    "data_breast = read_csv(\"C:/Users/rodri/Desktop/Mestrado/SIB/si/datasets/breast-bin.csv\", features=True, label=True)"
   ]
  },
  {
   "attachments": {},
   "cell_type": "markdown",
   "metadata": {},
   "source": [
    "##### 2. Usa o sklearn.preprocessing.StandardScaler para standardizar os dataset. \n",
    "###### breast_dataset.X = StandardScaler().fit_transform(breast_dataset.X)\n"
   ]
  },
  {
   "cell_type": "code",
   "execution_count": 5,
   "metadata": {},
   "outputs": [],
   "source": [
    "data_breast.X = StandardScaler().fit_transform(data_breast.X)"
   ]
  },
  {
   "attachments": {},
   "cell_type": "markdown",
   "metadata": {},
   "source": [
    "##### 3. Divide o dataset em treino e teste\n"
   ]
  },
  {
   "cell_type": "code",
   "execution_count": 6,
   "metadata": {},
   "outputs": [],
   "source": [
    "train, test = train_test_split(data_breast)"
   ]
  },
  {
   "attachments": {},
   "cell_type": "markdown",
   "metadata": {},
   "source": [
    "##### 4. Cria o modelo KNNClassifier\n"
   ]
  },
  {
   "cell_type": "code",
   "execution_count": 10,
   "metadata": {},
   "outputs": [],
   "source": [
    "knn_model = KNNClassifier(k=6, distance=euclidean_distance)"
   ]
  },
  {
   "attachments": {},
   "cell_type": "markdown",
   "metadata": {},
   "source": [
    "##### 5. Cria o modelo LogisticRegression\n"
   ]
  },
  {
   "cell_type": "code",
   "execution_count": 8,
   "metadata": {},
   "outputs": [],
   "source": [
    "logistic_model = LogisticRegression(max_iter=2000)"
   ]
  },
  {
   "attachments": {},
   "cell_type": "markdown",
   "metadata": {},
   "source": [
    "##### 6. Cria um segundo modelo KNNClassifier (modelo final)\n"
   ]
  },
  {
   "cell_type": "code",
   "execution_count": 14,
   "metadata": {},
   "outputs": [],
   "source": [
    "knn_model_2 = KNNClassifier(k=8, distance=euclidean_distance)"
   ]
  },
  {
   "attachments": {},
   "cell_type": "markdown",
   "metadata": {},
   "source": [
    "##### 7. Cria o modelo StackingClassifier usando os classificadores anteriores. O segundo modelo KNNClassifier deve ser usado como modelo final.\n"
   ]
  },
  {
   "cell_type": "code",
   "execution_count": 19,
   "metadata": {},
   "outputs": [],
   "source": [
    "stacking_classifier = StackingClassifier([logistic_model, knn_model], knn_model_2)"
   ]
  },
  {
   "attachments": {},
   "cell_type": "markdown",
   "metadata": {},
   "source": [
    "##### 8. Treina o modelo. Qual o score obtido?"
   ]
  },
  {
   "cell_type": "code",
   "execution_count": 20,
   "metadata": {},
   "outputs": [
    {
     "data": {
      "text/plain": [
       "0.9856115107913669"
      ]
     },
     "execution_count": 20,
     "metadata": {},
     "output_type": "execute_result"
    }
   ],
   "source": [
    "stacking_classifier.fit(test)\n",
    "stacking_classifier.predict(test)\n",
    "stacking_classifier.score(test)"
   ]
  },
  {
   "cell_type": "code",
   "execution_count": null,
   "metadata": {},
   "outputs": [],
   "source": []
  }
 ],
 "metadata": {
  "kernelspec": {
   "display_name": "Python 3",
   "language": "python",
   "name": "python3"
  },
  "language_info": {
   "codemirror_mode": {
    "name": "ipython",
    "version": 3
   },
   "file_extension": ".py",
   "mimetype": "text/x-python",
   "name": "python",
   "nbconvert_exporter": "python",
   "pygments_lexer": "ipython3",
   "version": "3.10.9 (tags/v3.10.9:1dd9be6, Dec  6 2022, 20:01:21) [MSC v.1934 64 bit (AMD64)]"
  },
  "orig_nbformat": 4,
  "vscode": {
   "interpreter": {
    "hash": "0e5b5b920195072d4a4eec1d5ff9e5f87252d2725e2a57da6939cd4fcd91d4cd"
   }
  }
 },
 "nbformat": 4,
 "nbformat_minor": 2
}
