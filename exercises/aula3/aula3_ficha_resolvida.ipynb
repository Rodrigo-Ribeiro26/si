{
 "cells": [
  {
   "cell_type": "markdown",
   "metadata": {
    "slideshow": {
     "slide_type": "-"
    }
   },
   "source": [
    "# Ficha de trabalho\n",
    "Ficheiros a usar: \n",
    "* wines.csv - ficheiro com os dados das análises\n",
    "* wines_labels.csv - labels das classes\n",
    "\n",
    "\n",
    "**Sumário:**\n",
    "\n",
    "A data frame containing 177 rows and thirteen columns. These data are the results of chemical analyses of wines grown in the same region in Italy (Piedmont) but derived from three different cultivars (classes).\n"
   ]
  },
  {
   "cell_type": "markdown",
   "metadata": {
    "collapsed": true
   },
   "source": [
    "1 - Importa os dados presentes nos dois ficheiros."
   ]
  },
  {
   "cell_type": "code",
   "execution_count": 1,
   "metadata": {},
   "outputs": [],
   "source": [
    "import pandas as pd\n",
    "%matplotlib inline\n",
    "import matplotlib.pyplot as plt\n",
    "from scipy import stats\n",
    "import statsmodels.api as sm\n",
    "from sklearn import preprocessing\n",
    "from scipy.cluster.hierarchy import dendrogram, linkage\n",
    "\n",
    "data = pd.read_csv('wines.csv',sep=',', index_col = 0)\n",
    "meta = pd.read_csv('wines_labels.csv',sep=',', index_col = 0)"
   ]
  },
  {
   "cell_type": "markdown",
   "metadata": {},
   "source": [
    "2 - Explora o dataset, indicando:\n",
    " * o número de amostras e atributos, \n",
    " * tipos de dados, \n",
    " * se há valores em falta."
   ]
  },
  {
   "cell_type": "code",
   "execution_count": 2,
   "metadata": {},
   "outputs": [
    {
     "name": "stdout",
     "output_type": "stream",
     "text": [
      "(177, 13)\n",
      "(177, 1)\n",
      "Int64Index([  1,   2,   3,   4,   5,   6,   7,   8,   9,  10,\n",
      "            ...\n",
      "            168, 169, 170, 171, 172, 173, 174, 175, 176, 177],\n",
      "           dtype='int64', length=177)\n",
      "[dtype('float64'), dtype('float64'), dtype('float64'), dtype('float64'), dtype('int64'), dtype('float64'), dtype('float64'), dtype('float64'), dtype('float64'), dtype('float64'), dtype('float64'), dtype('float64'), dtype('int64')]\n"
     ]
    },
    {
     "data": {
      "text/plain": [
       "alcohol              0\n",
       "malic acid           0\n",
       "ash                  0\n",
       "ash alkalinity       0\n",
       "magnesium            0\n",
       "tot. phenols         0\n",
       "flavonoids           0\n",
       "non-flav. phenols    0\n",
       "proanth              0\n",
       "col. int.            0\n",
       "col. hue             0\n",
       "OD ratio             0\n",
       "proline              0\n",
       "dtype: int64"
      ]
     },
     "execution_count": 2,
     "metadata": {},
     "output_type": "execute_result"
    }
   ],
   "source": [
    "print (data.shape)\n",
    "print (meta.shape)\n",
    "print (data.index)\n",
    "print ([data.iloc[:,i].dtype for i in range(data.shape[1])])\n",
    "data.isnull().sum()"
   ]
  },
  {
   "cell_type": "markdown",
   "metadata": {},
   "source": [
    "3 - Verifica se as amostras provenientes das classes \"Barolo\" e \"Barbera\" têm níveis de alcool significativamente diferentes. "
   ]
  },
  {
   "cell_type": "code",
   "execution_count": 3,
   "metadata": {},
   "outputs": [
    {
     "name": "stdout",
     "output_type": "stream",
     "text": [
      "ShapiroResult(statistic=0.981652021408081, pvalue=0.5255285501480103)\n",
      "ShapiroResult(statistic=0.981467604637146, pvalue=0.6408376097679138)\n"
     ]
    },
    {
     "data": {
      "text/plain": [
       "Ttest_indResult(statistic=6.046516305087218, pvalue=2.3479977832012858e-08)"
      ]
     },
     "execution_count": 3,
     "metadata": {},
     "output_type": "execute_result"
    }
   ],
   "source": [
    "#normalidade dos dados por grupo de amostras\n",
    "barolo = data[meta['x']=='Barolo']['alcohol']\n",
    "barbera = data[meta['x']=='Barbera']['alcohol']\n",
    "\n",
    "print (stats.shapiro(barolo))\n",
    "print (stats.shapiro(barbera))\n",
    "# p-values >0.05 ,HO: dados seguem uma distribuição normal ...  not rejected!!\n",
    "\n",
    "stats.ttest_ind(barolo, barbera)\n",
    "# No Reject HO, logo valores são diferentes"
   ]
  },
  {
   "cell_type": "markdown",
   "metadata": {},
   "source": [
    "4 - Efectua uma análise semelhante à anterior mas considerando também a classe “Grignolino”. "
   ]
  },
  {
   "cell_type": "code",
   "execution_count": 4,
   "metadata": {},
   "outputs": [
    {
     "name": "stdout",
     "output_type": "stream",
     "text": [
      "             df     sum_sq    mean_sq           F        PR(>F)\n",
      "mydata.x    2.0  69.514462  34.757231  132.569148  1.050680e-35\n",
      "Residual  174.0  45.619651   0.262182         NaN           NaN\n",
      "  Multiple Comparison of Means - Tukey HSD, FWER=0.05   \n",
      "========================================================\n",
      " group1   group2   meandiff p-adj  lower   upper  reject\n",
      "--------------------------------------------------------\n",
      "Barbera     Barolo   0.5826 0.001  0.3464  0.8188   True\n",
      "Barbera Grignolino   -0.875 0.001 -1.1012 -0.6488   True\n",
      " Barolo Grignolino  -1.4576 0.001 -1.6719 -1.2434   True\n",
      "--------------------------------------------------------\n"
     ]
    }
   ],
   "source": [
    "from statsmodels.formula.api import ols\n",
    "from statsmodels.stats.anova import anova_lm\n",
    "import statsmodels.stats.multicomp as multi\n",
    "\n",
    "mydata = data.join(meta['x'])\n",
    "lm = ols(\"mydata.alcohol~mydata.x\", mydata).fit()\n",
    "\n",
    "print (anova_lm(lm))\n",
    "# reject HO :  p_value <0.05\n",
    "\n",
    "\n",
    "mcDate = multi.MultiComparison(mydata.alcohol,mydata.x)\n",
    "Results = mcDate.tukeyhsd()\n",
    "print(Results)"
   ]
  },
  {
   "cell_type": "markdown",
   "metadata": {},
   "source": [
    "5 - Realiza um PCA e determine quantos componentes principais são necessários para explicar 90% da variabilidade dos dados. Representa os scores num gráfico onde as cores dos pontos variam consoante a classe a que a amostra pertence. O que conclui em relação à discriminação das respetivas classes?"
   ]
  },
  {
   "cell_type": "code",
   "execution_count": 5,
   "metadata": {},
   "outputs": [
    {
     "name": "stdout",
     "output_type": "stream",
     "text": [
      "[0.35983071 0.1924128  0.1117946  0.07111109 0.06628744 0.04960367\n",
      " 0.04246014 0.02697991 0.02224462 0.01898528 0.01734155 0.01295206\n",
      " 0.00799613]\n"
     ]
    },
    {
     "data": {
      "image/png": "[encoded data removed]",
      "text/plain": [
       "<Figure size 432x288 with 1 Axes>"
      ]
     },
     "metadata": {
      "needs_background": "light"
     },
     "output_type": "display_data"
    }
   ],
   "source": [
    "from sklearn.decomposition import PCA\n",
    "data_scaled= preprocessing.scale(data)\n",
    "n=13\n",
    "pca = PCA(n_components=n)\n",
    "pca.fit(data_scaled)\n",
    "x_reduced = pca.transform(data_scaled)\n",
    "\n",
    "print (pca.explained_variance_ratio_) \n",
    "\n",
    "for casta in meta.x.unique():\n",
    "    index_samples = meta.index[meta.x==casta]-1 # -1 porque a indexação dos arrays começa em 0 e as labels do atributo index no dataframe começa em 1.\n",
    "    plt.plot(x_reduced[index_samples,0],x_reduced[index_samples,1], 'o' , label=casta)\n",
    "plt.title(\"PCA\")\n",
    "plt.legend(loc='best', shadow=False)\n",
    "plt.show()"
   ]
  },
  {
   "cell_type": "markdown",
   "metadata": {},
   "source": [
    "6 - Realizar clustering hierarquico dos dados, utilizando a métrica de distância \"Manhattan”. Apresenta a àrvore resultante colorindo as folas de acordo com a classe. O que conclui olhando para os resultados?"
   ]
  },
  {
   "cell_type": "code",
   "execution_count": 6,
   "metadata": {},
   "outputs": [
    {
     "data": {
      "image/png": "[encoded data removed]",
      "text/plain": [
       "<Figure size 1800x720 with 1 Axes>"
      ]
     },
     "metadata": {
      "needs_background": "light"
     },
     "output_type": "display_data"
    }
   ],
   "source": [
    "Z = linkage(data_scaled, metric='cityblock')\n",
    "\n",
    "# calculate full dendrogram\n",
    "plt.figure(figsize=(25, 10))\n",
    "dendrogram(\n",
    "    Z,\n",
    "    labels=list(meta['x']),\n",
    "    leaf_rotation=90.,  # rotates the x axis labels\n",
    "    leaf_font_size=8.,  # font size for the x axis labels\n",
    ")\n",
    "\n",
    "plt.title('Hierarchical Clustering Dendrogram')\n",
    "plt.ylabel('distance')\n",
    "\n",
    "# Assignment of colors to labels: 'a' is red, 'b' is green, etc.\n",
    "label_colors = {'Barolo': 'b', 'Grignolino': 'r', 'Barbera': 'g'}\n",
    "ax = plt.gca()\n",
    "xlbls = ax.get_xmajorticklabels()\n",
    "for lbl in xlbls:\n",
    "    lbl.set_color(label_colors[lbl.get_text()])\n",
    "\n",
    "plt.show()\n"
   ]
  },
  {
   "cell_type": "markdown",
   "metadata": {},
   "source": [
    "7 - Aplica a função de clustering k-means aos dados, com k =3, e compara os resultados com os presentes na variavel *wines_labels*. O que conclui desta análise? Cruze os resultados com os obtidos anteriormente."
   ]
  },
  {
   "cell_type": "code",
   "execution_count": 7,
   "metadata": {},
   "outputs": [
    {
     "data": {
      "text/html": [
       "<div>\n",
       "<style scoped>\n",
       "    .dataframe tbody tr th:only-of-type {\n",
       "        vertical-align: middle;\n",
       "    }\n",
       "\n",
       "    .dataframe tbody tr th {\n",
       "        vertical-align: top;\n",
       "    }\n",
       "\n",
       "    .dataframe thead th {\n",
       "        text-align: right;\n",
       "    }\n",
       "</style>\n",
       "<table border=\"1\" class=\"dataframe\">\n",
       "  <thead>\n",
       "    <tr style=\"text-align: right;\">\n",
       "      <th>x</th>\n",
       "      <th>Barbera</th>\n",
       "      <th>Barolo</th>\n",
       "      <th>Grignolino</th>\n",
       "    </tr>\n",
       "    <tr>\n",
       "      <th>clusters</th>\n",
       "      <th></th>\n",
       "      <th></th>\n",
       "      <th></th>\n",
       "    </tr>\n",
       "  </thead>\n",
       "  <tbody>\n",
       "    <tr>\n",
       "      <th>0</th>\n",
       "      <td>48</td>\n",
       "      <td>0</td>\n",
       "      <td>3</td>\n",
       "    </tr>\n",
       "    <tr>\n",
       "      <th>1</th>\n",
       "      <td>0</td>\n",
       "      <td>0</td>\n",
       "      <td>65</td>\n",
       "    </tr>\n",
       "    <tr>\n",
       "      <th>2</th>\n",
       "      <td>0</td>\n",
       "      <td>58</td>\n",
       "      <td>3</td>\n",
       "    </tr>\n",
       "  </tbody>\n",
       "</table>\n",
       "</div>"
      ],
      "text/plain": [
       "x         Barbera  Barolo  Grignolino\n",
       "clusters                             \n",
       "0              48       0           3\n",
       "1               0       0          65\n",
       "2               0      58           3"
      ]
     },
     "execution_count": 7,
     "metadata": {},
     "output_type": "execute_result"
    }
   ],
   "source": [
    "from sklearn.cluster import KMeans\n",
    "\n",
    "k=3\n",
    "kmeans = KMeans(n_clusters=k, max_iter=1000)\n",
    "kmeans.fit(data_scaled)\n",
    "labels = kmeans.labels_\n",
    "centroids = kmeans.cluster_centers_\n",
    "\n",
    "pd.crosstab(labels, meta[\"x\"], rownames=['clusters'] )"
   ]
  },
  {
   "cell_type": "code",
   "execution_count": null,
   "metadata": {},
   "outputs": [],
   "source": []
  }
 ],
 "metadata": {
  "anaconda-cloud": {},
  "kernelspec": {
   "display_name": "Python 3",
   "language": "python",
   "name": "python3"
  },
  "language_info": {
   "codemirror_mode": {
    "name": "ipython",
    "version": 3
   },
   "file_extension": ".py",
   "mimetype": "text/x-python",
   "name": "python",
   "nbconvert_exporter": "python",
   "pygments_lexer": "ipython3",
   "version": "3.10.9 (tags/v3.10.9:1dd9be6, Dec  6 2022, 20:01:21) [MSC v.1934 64 bit (AMD64)]"
  },
  "vscode": {
   "interpreter": {
    "hash": "0e5b5b920195072d4a4eec1d5ff9e5f87252d2725e2a57da6939cd4fcd91d4cd"
   }
  }
 },
 "nbformat": 4,
 "nbformat_minor": 1
}
