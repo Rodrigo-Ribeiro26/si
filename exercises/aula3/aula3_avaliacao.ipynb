{
 "cells": [
  {
   "attachments": {},
   "cell_type": "markdown",
   "metadata": {},
   "source": [
    "# Exercício 3: Implementar o PCA\n",
    "#### 3.1) Adiciona o objeto PCA ao sub-package decomposition. Deves criar um módulo chamado pca.py para implementar este objeto\n",
    "\n",
    "#### 3.2) Considera a estrutura do objeto PCA apresentada no diapositivo seguinte.\n",
    "\n",
    "\n",
    "#### 3.3) Podes testar o objeto PCA num jupyter notebook usando o dataset iris.csv (classificação)"
   ]
  },
  {
   "cell_type": "markdown",
   "metadata": {},
   "source": []
  },
  {
   "cell_type": "code",
   "execution_count": null,
   "metadata": {},
   "outputs": [],
   "source": []
  }
 ],
 "metadata": {
  "language_info": {
   "name": "python"
  },
  "orig_nbformat": 4
 },
 "nbformat": 4,
 "nbformat_minor": 2
}
