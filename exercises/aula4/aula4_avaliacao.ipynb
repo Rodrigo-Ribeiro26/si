{
 "cells": [
  {
   "attachments": {},
   "cell_type": "markdown",
   "metadata": {},
   "source": [
    "# Exercício 3: Implementar o KNNRegressor com RMSE\n",
    "#### 3.1) Adiciona a métrica RMSE (RMQE em português) ao sub-package metrics. Deves criar um módulo chamado rmse.py.\n",
    "\n",
    "##### Check rmse.py\n",
    "\n",
    "#### 3.2) Considera a estrutura da função rmse apresentada no diapositivo seguinte\n",
    "\n",
    "#### 3.2) Adiciona o objeto KNNRegressor ao sub-package neighbors. Deves criar um módulo chamado knn_regressor.py para implementar este objeto.\n",
    "\n",
    "##### Check knn_regressor.py\n",
    "\n",
    "#### 3.3) Considera a estrutura do objeto KNNRegressor apresentada no diapositivo seguinte.\n",
    "\n",
    "#### 3.4) Podes testar o objeto KNNRegressor num jupyter notebook usando o dataset cpu.csv (regressão)"
   ]
  },
  {
   "cell_type": "markdown",
   "metadata": {},
   "source": []
  },
  {
   "cell_type": "code",
   "execution_count": 2,
   "metadata": {},
   "outputs": [
    {
     "name": "stdout",
     "output_type": "stream",
     "text": [
      "C:\\Users\\rodri\\Desktop\\Mestrado\\SIB\\si\\src\n"
     ]
    }
   ],
   "source": [
    "cd Desktop/Mestrado/SIB/si/src"
   ]
  },
  {
   "cell_type": "code",
   "execution_count": 4,
   "metadata": {},
   "outputs": [],
   "source": [
    "from si.neighbors.knn_regressor import KNNRegressor\n",
    "from si.model_selection.split import train_test_split\n",
    "from si.io.CSV import read_csv\n",
    "from si.statistics_.euclidean_distance import euclidean_distance"
   ]
  },
  {
   "cell_type": "code",
   "execution_count": 5,
   "metadata": {},
   "outputs": [
    {
     "data": {
      "text/html": [
       "<div>\n",
       "<style scoped>\n",
       "    .dataframe tbody tr th:only-of-type {\n",
       "        vertical-align: middle;\n",
       "    }\n",
       "\n",
       "    .dataframe tbody tr th {\n",
       "        vertical-align: top;\n",
       "    }\n",
       "\n",
       "    .dataframe thead th {\n",
       "        text-align: right;\n",
       "    }\n",
       "</style>\n",
       "<table border=\"1\" class=\"dataframe\">\n",
       "  <thead>\n",
       "    <tr style=\"text-align: right;\">\n",
       "      <th></th>\n",
       "      <th>syct</th>\n",
       "      <th>mmin</th>\n",
       "      <th>mmax</th>\n",
       "      <th>cach</th>\n",
       "      <th>chmin</th>\n",
       "      <th>chmax</th>\n",
       "    </tr>\n",
       "  </thead>\n",
       "  <tbody>\n",
       "    <tr>\n",
       "      <th>198</th>\n",
       "      <td>125</td>\n",
       "      <td>256</td>\n",
       "      <td>6000</td>\n",
       "      <td>256</td>\n",
       "      <td>16</td>\n",
       "      <td>128</td>\n",
       "    </tr>\n",
       "    <tr>\n",
       "      <th>269</th>\n",
       "      <td>29</td>\n",
       "      <td>8000</td>\n",
       "      <td>32000</td>\n",
       "      <td>32</td>\n",
       "      <td>8</td>\n",
       "      <td>32</td>\n",
       "    </tr>\n",
       "    <tr>\n",
       "      <th>220</th>\n",
       "      <td>29</td>\n",
       "      <td>8000</td>\n",
       "      <td>32000</td>\n",
       "      <td>32</td>\n",
       "      <td>8</td>\n",
       "      <td>32</td>\n",
       "    </tr>\n",
       "    <tr>\n",
       "      <th>172</th>\n",
       "      <td>29</td>\n",
       "      <td>8000</td>\n",
       "      <td>32000</td>\n",
       "      <td>32</td>\n",
       "      <td>8</td>\n",
       "      <td>32</td>\n",
       "    </tr>\n",
       "    <tr>\n",
       "      <th>132</th>\n",
       "      <td>29</td>\n",
       "      <td>8000</td>\n",
       "      <td>16000</td>\n",
       "      <td>32</td>\n",
       "      <td>8</td>\n",
       "      <td>16</td>\n",
       "    </tr>\n",
       "    <tr>\n",
       "      <th>...</th>\n",
       "      <td>...</td>\n",
       "      <td>...</td>\n",
       "      <td>...</td>\n",
       "      <td>...</td>\n",
       "      <td>...</td>\n",
       "      <td>...</td>\n",
       "    </tr>\n",
       "    <tr>\n",
       "      <th>42</th>\n",
       "      <td>124</td>\n",
       "      <td>1000</td>\n",
       "      <td>8000</td>\n",
       "      <td>0</td>\n",
       "      <td>1</td>\n",
       "      <td>8</td>\n",
       "    </tr>\n",
       "    <tr>\n",
       "      <th>46</th>\n",
       "      <td>98</td>\n",
       "      <td>1000</td>\n",
       "      <td>8000</td>\n",
       "      <td>32</td>\n",
       "      <td>2</td>\n",
       "      <td>8</td>\n",
       "    </tr>\n",
       "    <tr>\n",
       "      <th>52</th>\n",
       "      <td>125</td>\n",
       "      <td>2000</td>\n",
       "      <td>8000</td>\n",
       "      <td>0</td>\n",
       "      <td>2</td>\n",
       "      <td>14</td>\n",
       "    </tr>\n",
       "    <tr>\n",
       "      <th>67</th>\n",
       "      <td>480</td>\n",
       "      <td>512</td>\n",
       "      <td>8000</td>\n",
       "      <td>32</td>\n",
       "      <td>0</td>\n",
       "      <td>0</td>\n",
       "    </tr>\n",
       "    <tr>\n",
       "      <th>45</th>\n",
       "      <td>480</td>\n",
       "      <td>1000</td>\n",
       "      <td>4000</td>\n",
       "      <td>0</td>\n",
       "      <td>0</td>\n",
       "      <td>0</td>\n",
       "    </tr>\n",
       "  </tbody>\n",
       "</table>\n",
       "<p>209 rows × 6 columns</p>\n",
       "</div>"
      ],
      "text/plain": [
       "     syct  mmin   mmax  cach  chmin  chmax\n",
       "198   125   256   6000   256     16    128\n",
       "269    29  8000  32000    32      8     32\n",
       "220    29  8000  32000    32      8     32\n",
       "172    29  8000  32000    32      8     32\n",
       "132    29  8000  16000    32      8     16\n",
       "..    ...   ...    ...   ...    ...    ...\n",
       "42    124  1000   8000     0      1      8\n",
       "46     98  1000   8000    32      2      8\n",
       "52    125  2000   8000     0      2     14\n",
       "67    480   512   8000    32      0      0\n",
       "45    480  1000   4000     0      0      0\n",
       "\n",
       "[209 rows x 6 columns]"
      ]
     },
     "execution_count": 5,
     "metadata": {},
     "output_type": "execute_result"
    }
   ],
   "source": [
    "data_cpu = read_csv(\"C:/Users/rodri/Desktop/Mestrado/SIB/si/datasets/cpu.csv\", features=True, label=True)\n",
    "data_cpu.print_dataframe()"
   ]
  },
  {
   "cell_type": "code",
   "execution_count": 11,
   "metadata": {},
   "outputs": [
    {
     "data": {
      "text/plain": [
       "(61.366501945080834+0j)"
      ]
     },
     "execution_count": 11,
     "metadata": {},
     "output_type": "execute_result"
    }
   ],
   "source": [
    "train, test = train_test_split(data_cpu)\n",
    "kmeans = KNNRegressor(k=2, distance=euclidean_distance)\n",
    "kmeans.fit(train)\n",
    "kmeans.score(test)"
   ]
  },
  {
   "cell_type": "code",
   "execution_count": null,
   "metadata": {},
   "outputs": [],
   "source": []
  }
 ],
 "metadata": {
  "kernelspec": {
   "display_name": "Python 3",
   "language": "python",
   "name": "python3"
  },
  "language_info": {
   "codemirror_mode": {
    "name": "ipython",
    "version": 3
   },
   "file_extension": ".py",
   "mimetype": "text/x-python",
   "name": "python",
   "nbconvert_exporter": "python",
   "pygments_lexer": "ipython3",
   "version": "3.10.9 (tags/v3.10.9:1dd9be6, Dec  6 2022, 20:01:21) [MSC v.1934 64 bit (AMD64)]"
  },
  "orig_nbformat": 4,
  "vscode": {
   "interpreter": {
    "hash": "0e5b5b920195072d4a4eec1d5ff9e5f87252d2725e2a57da6939cd4fcd91d4cd"
   }
  }
 },
 "nbformat": 4,
 "nbformat_minor": 2
}
