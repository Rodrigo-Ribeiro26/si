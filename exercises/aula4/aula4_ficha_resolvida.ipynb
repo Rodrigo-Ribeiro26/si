{
 "cells": [
  {
   "cell_type": "markdown",
   "metadata": {},
   "source": [
    "# Ficha de trabalho 4\n",
    "\n",
    "1- Considera o dataset cachexia. Lê os dados usando a função read_csv do pandas (dados e metadados)."
   ]
  },
  {
   "cell_type": "code",
   "execution_count": 1,
   "metadata": {},
   "outputs": [
    {
     "name": "stdout",
     "output_type": "stream",
     "text": [
      "(77, 63)\n",
      "(77, 1)\n"
     ]
    }
   ],
   "source": [
    "from pandas import read_csv\n",
    "data_metab = read_csv(\"data_cachexia.csv\", sep=',', index_col = 0)\n",
    "meta_metab = read_csv(\"meta_cachexia.csv\", sep = \",\", index_col = 0)\n",
    "print(data_metab.shape)\n",
    "print(meta_metab.shape)"
   ]
  },
  {
   "cell_type": "markdown",
   "metadata": {},
   "source": [
    "2 - Aplica a transformação necessária para que os dados seja escalonados para ter média 0 e desvio padrão 1. Verifica que as médias de todas as colunas é aproximadamente zero."
   ]
  },
  {
   "cell_type": "code",
   "execution_count": 2,
   "metadata": {},
   "outputs": [
    {
     "name": "stdout",
     "output_type": "stream",
     "text": [
      "Media global:  -1.8675365658506033e-17\n",
      "Desvio padrao global:  1.0\n"
     ]
    }
   ],
   "source": [
    "from sklearn import preprocessing\n",
    "\n",
    "input_data = data_metab.values\n",
    "output_data = meta_metab.values[:,0]\n",
    "\n",
    "input_sc = preprocessing.scale(input_data) #media 0 e desvio padrão=1\n",
    "\n",
    "print(\"Media global: \", input_sc.mean())\n",
    "print(\"Desvio padrao global: \", input_sc.std())\n"
   ]
  },
  {
   "cell_type": "code",
   "execution_count": 3,
   "metadata": {},
   "outputs": [
    {
     "data": {
      "text/plain": [
       "True"
      ]
     },
     "execution_count": 3,
     "metadata": {},
     "output_type": "execute_result"
    }
   ],
   "source": [
    "((input_sc.mean(axis=0) < 0.000001) & (input_sc.mean(axis=0) > -0.000001)).all()\n",
    "\n",
    "# poder-se-ia verificar a média de cada um dos atributos \n",
    "#for i in range(63):\n",
    "#    print(input_sc[:,i].mean())\n"
   ]
  },
  {
   "cell_type": "code",
   "execution_count": 4,
   "metadata": {},
   "outputs": [
    {
     "data": {
      "text/plain": [
       "True"
      ]
     },
     "execution_count": 4,
     "metadata": {},
     "output_type": "execute_result"
    }
   ],
   "source": [
    "((input_sc.std(axis=0) < 1.000001) & (input_sc.std(axis=0) > 0.999999)).all()"
   ]
  },
  {
   "cell_type": "markdown",
   "metadata": {},
   "source": [
    "3 - Cria dois conjuntos de dados treino e teste para serem usados na criação e validação de modelos de aprendizagem máquina. Considera 30% das amostras para formar o conjunto de teste. "
   ]
  },
  {
   "cell_type": "code",
   "execution_count": 5,
   "metadata": {},
   "outputs": [
    {
     "name": "stdout",
     "output_type": "stream",
     "text": [
      "Numero de exemplos para teste:  23\n"
     ]
    }
   ],
   "source": [
    "import numpy as np\n",
    "\n",
    "numtst = int(input_sc.shape[0] *0.3)\n",
    "print(\"Numero de exemplos para teste: \", numtst)\n",
    "\n",
    "indices = np.random.permutation(len(input_data))\n",
    "indices\n",
    "\n",
    "train_in = input_sc[indices[:-numtst]]\n",
    "train_out = output_data[indices[:-numtst]]\n",
    "\n",
    "test_in  = input_sc[indices[-numtst:]]\n",
    "test_out = output_data[indices[-numtst:]]"
   ]
  },
  {
   "cell_type": "code",
   "execution_count": 6,
   "metadata": {},
   "outputs": [
    {
     "name": "stdout",
     "output_type": "stream",
     "text": [
      "(54, 63)\n",
      "(54,)\n",
      "(23, 63)\n",
      "(23,)\n"
     ]
    }
   ],
   "source": [
    "## verificando as dimensoes\n",
    "print(train_in.shape)\n",
    "print(train_out.shape)\n",
    "\n",
    "print(test_in.shape)\n",
    "print(test_out.shape)"
   ]
  },
  {
   "cell_type": "markdown",
   "metadata": {},
   "source": [
    "4 - Constroi diversos tipos de modelos de classificação treinando e testando com os conjuntos criados anteriormente. Calcula, para cada um dos modelos no test set, as métricas de erro PECC e F1-score, e calcula a matriz de confusão. Considere como classe positiva a classe \"cachexic\""
   ]
  },
  {
   "cell_type": "code",
   "execution_count": 7,
   "metadata": {},
   "outputs": [
    {
     "name": "stdout",
     "output_type": "stream",
     "text": [
      "0.6086956521739131\n"
     ]
    }
   ],
   "source": [
    "from sklearn.neighbors import KNeighborsClassifier\n",
    "\n",
    "knn = KNeighborsClassifier()\n",
    "knn.fit(train_in, train_out)\n",
    "prev = knn.predict(test_in)\n",
    "\n",
    "print(knn.score(test_in, test_out))"
   ]
  },
  {
   "cell_type": "code",
   "execution_count": 8,
   "metadata": {},
   "outputs": [
    {
     "name": "stdout",
     "output_type": "stream",
     "text": [
      "PECC:  0.6086956521739131\n",
      "F1-score:  0.64\n"
     ]
    },
    {
     "data": {
      "text/plain": [
       "array([[8, 6],\n",
       "       [3, 6]])"
      ]
     },
     "execution_count": 8,
     "metadata": {},
     "output_type": "execute_result"
    }
   ],
   "source": [
    "from sklearn.metrics import accuracy_score, f1_score, confusion_matrix\n",
    "\n",
    "print(\"PECC: \", accuracy_score(test_out, prev) )\n",
    "print(\"F1-score: \", f1_score(test_out, prev, pos_label = \"cachexic\") )\n",
    "\n",
    "confusion_matrix(test_out, prev)"
   ]
  },
  {
   "cell_type": "code",
   "execution_count": 9,
   "metadata": {},
   "outputs": [
    {
     "name": "stdout",
     "output_type": "stream",
     "text": [
      "VP:  6\n",
      "VN:  8\n",
      "FP:  6\n",
      "FN:  3\n"
     ]
    }
   ],
   "source": [
    "tn, fp, fn, tp = confusion_matrix(test_out, prev).ravel()\n",
    "print(\"VP: \", tp)\n",
    "print(\"VN: \", tn)\n",
    "print(\"FP: \", fp)\n",
    "print(\"FN: \", fn)"
   ]
  },
  {
   "cell_type": "code",
   "execution_count": 10,
   "metadata": {},
   "outputs": [
    {
     "name": "stdout",
     "output_type": "stream",
     "text": [
      "PECC:  0.782608695652174\n",
      "F1-score:  0.8275862068965518\n"
     ]
    },
    {
     "data": {
      "text/plain": [
       "array([[12,  2],\n",
       "       [ 3,  6]])"
      ]
     },
     "execution_count": 10,
     "metadata": {},
     "output_type": "execute_result"
    }
   ],
   "source": [
    "from sklearn import tree\n",
    "\n",
    "tree_model = tree.DecisionTreeClassifier()\n",
    "tree_model = tree_model.fit(train_in, train_out)\n",
    "prev_tree = tree_model.predict(test_in)\n",
    "\n",
    "print(\"PECC: \", accuracy_score(test_out, prev_tree) )\n",
    "print(\"F1-score: \", f1_score(test_out, prev_tree, pos_label = \"cachexic\") )\n",
    "confusion_matrix(test_out, prev_tree)"
   ]
  },
  {
   "cell_type": "code",
   "execution_count": 11,
   "metadata": {},
   "outputs": [
    {
     "name": "stdout",
     "output_type": "stream",
     "text": [
      "PECC:  0.6086956521739131\n",
      "F1-score:  0.6086956521739131\n"
     ]
    },
    {
     "data": {
      "text/plain": [
       "array([[7, 7],\n",
       "       [2, 7]])"
      ]
     },
     "execution_count": 11,
     "metadata": {},
     "output_type": "execute_result"
    }
   ],
   "source": [
    "from sklearn.naive_bayes import GaussianNB\n",
    "\n",
    "gnb_model = GaussianNB()\n",
    "gnb_model = gnb_model.fit(train_in, train_out)\n",
    "\n",
    "prev_gnb = gnb_model.predict(test_in)\n",
    "\n",
    "print(\"PECC: \", accuracy_score(test_out, prev_gnb) )\n",
    "print(\"F1-score: \", f1_score(test_out, prev_gnb, pos_label = \"cachexic\") )\n",
    "confusion_matrix(test_out, prev_gnb)"
   ]
  },
  {
   "cell_type": "markdown",
   "metadata": {},
   "source": [
    "5 - Usando apenas o melhor modelo do exercício anterior, compare o seu desempenho considerando dados com transformação logaritmica e posteriormente standardizados"
   ]
  },
  {
   "cell_type": "code",
   "execution_count": 12,
   "metadata": {},
   "outputs": [],
   "source": [
    "input_log = np.log2(input_data)"
   ]
  },
  {
   "cell_type": "code",
   "execution_count": 13,
   "metadata": {},
   "outputs": [],
   "source": [
    "input_log_sc = preprocessing.scale(input_log)\n",
    "\n",
    "train_in_log = input_log_sc[indices[:-numtst]]\n",
    "test_in_log  = input_log_sc[indices[-numtst:]]"
   ]
  },
  {
   "cell_type": "code",
   "execution_count": 14,
   "metadata": {},
   "outputs": [
    {
     "name": "stdout",
     "output_type": "stream",
     "text": [
      "PECC:  0.6521739130434783\n",
      "F1-score:  0.7142857142857143\n"
     ]
    },
    {
     "data": {
      "text/plain": [
       "array([[10,  4],\n",
       "       [ 4,  5]])"
      ]
     },
     "execution_count": 14,
     "metadata": {},
     "output_type": "execute_result"
    }
   ],
   "source": [
    "tree_model_log = tree.DecisionTreeClassifier()\n",
    "tree_model_log = tree_model_log.fit(train_in_log, train_out)\n",
    "prev_tree_log = tree_model_log.predict(test_in_log)\n",
    "\n",
    "print(\"PECC: \", accuracy_score(test_out, prev_tree_log) )\n",
    "print(\"F1-score: \", f1_score(test_out, prev_tree_log, pos_label = \"cachexic\") )\n",
    "confusion_matrix(test_out, prev_tree_log)"
   ]
  },
  {
   "cell_type": "code",
   "execution_count": null,
   "metadata": {},
   "outputs": [],
   "source": []
  }
 ],
 "metadata": {
  "kernelspec": {
   "display_name": "Python 3",
   "language": "python",
   "name": "python3"
  },
  "language_info": {
   "codemirror_mode": {
    "name": "ipython",
    "version": 3
   },
   "file_extension": ".py",
   "mimetype": "text/x-python",
   "name": "python",
   "nbconvert_exporter": "python",
   "pygments_lexer": "ipython3",
   "version": "3.10.9 (tags/v3.10.9:1dd9be6, Dec  6 2022, 20:01:21) [MSC v.1934 64 bit (AMD64)]"
  },
  "vscode": {
   "interpreter": {
    "hash": "0e5b5b920195072d4a4eec1d5ff9e5f87252d2725e2a57da6939cd4fcd91d4cd"
   }
  }
 },
 "nbformat": 4,
 "nbformat_minor": 2
}
