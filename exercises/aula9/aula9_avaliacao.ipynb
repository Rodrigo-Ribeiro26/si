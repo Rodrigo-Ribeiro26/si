{
 "cells": [
  {
   "attachments": {},
   "cell_type": "markdown",
   "metadata": {},
   "source": [
    "Exercício 10: Redes neuronais, layers de ativação, regressão e multiclass\n",
    "\n",
    "• 10.1) Adiciona uma nova layer de ativação chamada\n",
    "SoftMaxActivation\n",
    "- Esta layer deve calcular a probabilidade de ocorrência de cada classe\n",
    "usando a seguinte formula:\n",
    "- Sendo que\n",
    "• zi - 𝑋 − max(𝑋)\n",
    "• ezi – exponencial do vetor zi\n",
    "• σ𝑗\n",
    "𝐾 𝑒𝑧 - soma da exponencial do vetor zi – considera a seguinte função do\n",
    "numpy: np.sum (..., axis=1, keepdims=True)\n",
    "- Esta layer é particularmente útil para problemas multiclass"
   ]
  },
  {
   "attachments": {},
   "cell_type": "markdown",
   "metadata": {},
   "source": [
    "10.2) Adiciona uma nova layer de ativação chamada\n",
    "ReLUActivation\n",
    "- Esta layer deve calcular a relação linear retificada. Ou seja, deves\n",
    "considerar a parte positiva do seu argumento.\n",
    "- Considera a seguinte função do numpy\n",
    "para implementar a função ReLU\n",
    "• np.maximum(mínimo, X)"
   ]
  },
  {
   "attachments": {},
   "cell_type": "markdown",
   "metadata": {},
   "source": [
    "10.3) Constrói um modelo de redes neuronais\n",
    "considerando a seguinte topologia:\n",
    "- O dataset de treino contém 32 features\n",
    "- O problema é do tipo binário\n",
    "- O modelo deve conter 3 Dense layers:\n",
    "• Dense layer de input\n",
    "• Dense layer com redução do número de neurónios (units) para metade\n",
    "• Dense layer final (output)\n",
    "- Usa a SigmoidActivation como layer de ativação"
   ]
  },
  {
   "cell_type": "code",
   "execution_count": 1,
   "metadata": {},
   "outputs": [
    {
     "name": "stdout",
     "output_type": "stream",
     "text": [
      "c:\\Users\\rodri\\Desktop\\Mestrado\\SIB\\si\\src\n"
     ]
    }
   ],
   "source": [
    "cd src"
   ]
  },
  {
   "cell_type": "code",
   "execution_count": 2,
   "metadata": {},
   "outputs": [],
   "source": [
    "import numpy as np\n",
    "from si.neural_networks.layer import Dense\n",
    "from si.neural_networks.nn import NN\n",
    "from si.neural_networks.sigmoid_activation import SigmoidActivation\n",
    "from si.neural_networks.soft_max_activation import SoftMaxActivation\n",
    "from si.neural_networks.relu_activation import ReLUActivation\n",
    "from si.neural_networks.linear_activation import LinearActivation\n",
    "from si.data.dataset import Dataset"
   ]
  },
  {
   "cell_type": "code",
   "execution_count": 3,
   "metadata": {},
   "outputs": [],
   "source": [
    "x = np.random.randn(100, 32) \n",
    "y = np.random.randint(0, 2, size=(100, 1))\n",
    "\n",
    "dataset = Dataset(X=x, y=y)"
   ]
  },
  {
   "cell_type": "code",
   "execution_count": 4,
   "metadata": {},
   "outputs": [],
   "source": [
    "layer1 = Dense(input_size=32, output_size=32)\n",
    "layer2 = Dense(input_size=32, output_size=16)\n",
    "layer3 = Dense(input_size=16, output_size=1)\n",
    "\n",
    "layer1_act = SigmoidActivation()\n",
    "layer2_act = SigmoidActivation()\n",
    "layer3_act = SigmoidActivation()"
   ]
  },
  {
   "cell_type": "code",
   "execution_count": 5,
   "metadata": {},
   "outputs": [],
   "source": [
    "model = NN(layers=[layer1, layer1_act, layer2, layer2_act, layer3, layer3_act])"
   ]
  },
  {
   "attachments": {},
   "cell_type": "markdown",
   "metadata": {},
   "source": [
    "10.4) Constrói um modelo de redes neuronais\n",
    "considerando a seguinte topologia:\n",
    "- O dataset de treino contém 32 features\n",
    "- O problema é do tipo multiclass com 3 classes\n",
    "- O modelo deve conter 3 Dense layers:\n",
    "• Dense layer de input\n",
    "• Dense layer com redução do número de neurónios (units) para metade\n",
    "• Dense layer final (output)\n",
    "- Usa a SigmoidActivation como layer de ativação\n",
    "- Usa a SoftMaxActivation como última layer de ativação"
   ]
  },
  {
   "cell_type": "code",
   "execution_count": 6,
   "metadata": {},
   "outputs": [],
   "source": [
    "x = np.random.randn(100, 32)  \n",
    "y = np.random.randint(0, 3, size=(100, 1)) \n",
    "\n",
    "dataset = Dataset(x, y)"
   ]
  },
  {
   "cell_type": "code",
   "execution_count": 7,
   "metadata": {},
   "outputs": [],
   "source": [
    "layer1 = Dense(input_size=32, output_size=32)\n",
    "layer2 = Dense(input_size=32, output_size=16)\n",
    "layer3 = Dense(input_size=16, output_size=1)\n",
    "\n",
    "layer1_act = SigmoidActivation()\n",
    "layer2_act = SigmoidActivation()\n",
    "layer3_act = SoftMaxActivation()"
   ]
  },
  {
   "cell_type": "code",
   "execution_count": 8,
   "metadata": {},
   "outputs": [],
   "source": [
    "model = NN(layers=[layer1, layer1_act, layer2, layer2_act, layer3, layer3_act])"
   ]
  },
  {
   "attachments": {},
   "cell_type": "markdown",
   "metadata": {},
   "source": [
    "10.5) Constrói um modelo de redes neuronais\n",
    "considerando a seguinte topologia:\n",
    "- O dataset de treino contém 32 features\n",
    "- O problema é do tipo regressão\n",
    "- O modelo deve conter 3 Dense layers:\n",
    "• Dense layer de input\n",
    "• Dense layer com redução do número de neurónios (units) para metade\n",
    "• Dense layer final (output)\n",
    "- Usa a ReLU como layer de ativação\n",
    "- Considera que o modelo deve acabar com uma ativação linear"
   ]
  },
  {
   "cell_type": "code",
   "execution_count": 9,
   "metadata": {},
   "outputs": [],
   "source": [
    "x = np.random.randn(100, 32)  \n",
    "y = np.random.randn(100, 1) \n",
    "\n",
    "dataset = Dataset(x, y)"
   ]
  },
  {
   "cell_type": "code",
   "execution_count": 11,
   "metadata": {},
   "outputs": [],
   "source": [
    "layer1 = Dense(input_size=32, output_size=32)\n",
    "layer2 = Dense(input_size=32, output_size=16)\n",
    "layer3 = Dense(input_size=16, output_size=1)\n",
    "\n",
    "layer1_act = ReLUActivation()\n",
    "layer2_act = ReLUActivation()\n",
    "layer3_act = LinearActivation()"
   ]
  },
  {
   "cell_type": "code",
   "execution_count": 12,
   "metadata": {},
   "outputs": [],
   "source": [
    "model = NN(layers=[layer1, layer1_act, layer2, layer2_act, layer3, layer3_act])"
   ]
  },
  {
   "cell_type": "code",
   "execution_count": null,
   "metadata": {},
   "outputs": [],
   "source": []
  }
 ],
 "metadata": {
  "kernelspec": {
   "display_name": "Python 3",
   "language": "python",
   "name": "python3"
  },
  "language_info": {
   "codemirror_mode": {
    "name": "ipython",
    "version": 3
   },
   "file_extension": ".py",
   "mimetype": "text/x-python",
   "name": "python",
   "nbconvert_exporter": "python",
   "pygments_lexer": "ipython3",
   "version": "3.10.9"
  },
  "orig_nbformat": 4,
  "vscode": {
   "interpreter": {
    "hash": "0e5b5b920195072d4a4eec1d5ff9e5f87252d2725e2a57da6939cd4fcd91d4cd"
   }
  }
 },
 "nbformat": 4,
 "nbformat_minor": 2
}
